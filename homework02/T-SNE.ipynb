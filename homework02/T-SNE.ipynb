{
 "cells": [
  {
   "cell_type": "code",
   "execution_count": 1,
   "metadata": {},
   "outputs": [
    {
     "name": "stderr",
     "output_type": "stream",
     "text": [
      "E:\\Anaconda1\\Anaconda3\\lib\\site-packages\\sklearn\\ensemble\\weight_boosting.py:29: DeprecationWarning: numpy.core.umath_tests is an internal NumPy module and should not be imported. It will be removed in a future NumPy release.\n",
      "  from numpy.core.umath_tests import inner1d\n"
     ]
    }
   ],
   "source": [
    "from time import time \n",
    "import numpy as np\n",
    "import matplotlib.pyplot as plt\n",
    "from matplotlib import offsetbox\n",
    "from sklearn import (manifold, datasets, decomposition, ensemble,\n",
    "                     discriminant_analysis, random_projection)\n",
    "from sklearn.manifold import TSNE"
   ]
  },
  {
   "cell_type": "code",
   "execution_count": 3,
   "metadata": {
    "collapsed": true
   },
   "outputs": [],
   "source": [
    "data = np.load('./data/placement_train.npy')"
   ]
  },
  {
   "cell_type": "code",
   "execution_count": 4,
   "metadata": {},
   "outputs": [
    {
     "name": "stdout",
     "output_type": "stream",
     "text": [
      "Computing t-SNE embedding\n"
     ]
    }
   ],
   "source": [
    "X = data[:, 0:-1]\n",
    "Y = data[:, -1]\n",
    "print(\"Computing t-SNE embedding\")\n",
    "tsne = manifold.TSNE(n_components=1, init='pca', random_state=0)\n",
    "t0 = time()\n",
    "X_tsne = tsne.fit_transform(X)"
   ]
  },
  {
   "cell_type": "code",
   "execution_count": null,
   "metadata": {
    "collapsed": true,
    "scrolled": true
   },
   "outputs": [],
   "source": [
    "%matplotlib inline\n",
    "# 图像大小\n",
    "fig   = plt.figure(figsize=(8,8))\n",
    "# 建立坐标系\n",
    "ax = fig.add_subplot(1,1,1)\n",
    "# 散点图的x, y \n",
    "plt.scatter(X_tsne[:], Y[:], cmap=plt.cm.Spectral)\n",
    "# 图像标题\n",
    "plt.title(\"测试\")\n",
    "plt.show()"
   ]
  },
  {
   "cell_type": "code",
   "execution_count": 5,
   "metadata": {
    "collapsed": true
   },
   "outputs": [],
   "source": [
    "new_X = np.column_stack((X_tsne,Y))"
   ]
  },
  {
   "cell_type": "code",
   "execution_count": 6,
   "metadata": {},
   "outputs": [
    {
     "data": {
      "text/plain": [
       "KMeans(algorithm='auto', copy_x=True, init='k-means++', max_iter=300,\n",
       "    n_clusters=100, n_init=10, n_jobs=1, precompute_distances='auto',\n",
       "    random_state=None, tol=0.0001, verbose=0)"
      ]
     },
     "execution_count": 6,
     "metadata": {},
     "output_type": "execute_result"
    }
   ],
   "source": [
    "from sklearn.cluster import KMeans\n",
    "model = KMeans(n_clusters=100)\n",
    "model.fit(new_X)"
   ]
  },
  {
   "cell_type": "code",
   "execution_count": 7,
   "metadata": {},
   "outputs": [
    {
     "data": {
      "text/plain": [
       "KMeans(algorithm='auto', copy_x=True, init='k-means++', max_iter=300,\n",
       "    n_clusters=100, n_init=10, n_jobs=1, precompute_distances='auto',\n",
       "    random_state=None, tol=0.0001, verbose=0)"
      ]
     },
     "execution_count": 7,
     "metadata": {},
     "output_type": "execute_result"
    }
   ],
   "source": [
    "model_test = KMeans(n_clusters=100)\n",
    "model_test.fit(data)"
   ]
  },
  {
   "cell_type": "code",
   "execution_count": 8,
   "metadata": {},
   "outputs": [
    {
     "data": {
      "image/png": "[encoded data removed]",
      "text/plain": [
       "<matplotlib.figure.Figure at 0x22d5d701b38>"
      ]
     },
     "metadata": {},
     "output_type": "display_data"
    }
   ],
   "source": [
    "arr = model.cluster_centers_\n",
    "%matplotlib inline\n",
    "# 图像大小\n",
    "fig   = plt.figure(figsize=(8,8))\n",
    "# 建立坐标系\n",
    "ax = fig.add_subplot(1,1,1)\n",
    "# 散点图的x, y \n",
    "#plt.scatter(X_tsne[:], Y[:], cmap=plt.cm.Spectral)\n",
    "plt.scatter(arr[:, 0], arr[:, 1],c=\"red\",cmap=plt.cm.Spectral)\n",
    "# 图像标题\n",
    "plt.title(\"测试\")\n",
    "plt.show()"
   ]
  },
  {
   "cell_type": "code",
   "execution_count": 13,
   "metadata": {
    "collapsed": true
   },
   "outputs": [],
   "source": [
    "#选出100个点对应的编号\n",
    "indices = set([])\n",
    "for dot in arr:\n",
    "    for i in range(len(data)):\n",
    "        if np.linalg.norm(dot - X_tsne[i]) <= 1.205:\n",
    "            indices.add(i)"
   ]
  },
  {
   "cell_type": "code",
   "execution_count": 14,
   "metadata": {},
   "outputs": [
    {
     "data": {
      "text/plain": [
       "100"
      ]
     },
     "execution_count": 14,
     "metadata": {},
     "output_type": "execute_result"
    }
   ],
   "source": [
    "len(indices)"
   ]
  },
  {
   "cell_type": "code",
   "execution_count": 25,
   "metadata": {},
   "outputs": [],
   "source": [
    "# 神经网络\n",
    "from keras.models import Sequential\n",
    "from keras.layers import Dense, Activation,LeakyReLU\n",
    "from keras import regularizers\n",
    "network= Sequential()\n",
    "network.add(Dense(6, input_shape=(6,)))\n",
    "network.add(Activation(\"linear\"))\n",
    "#network.add(LeakyReLU(alpha=0.05))\n",
    "network.add(Dense(6))\n",
    "network.add(Activation(\"linear\"))\n",
    "#network.add(LeakyReLU(alpha=0.05))\n",
    "network.add(Dense(1, input_shape=(6,)))\n",
    "#network.add(Activation(\"linear\"))\n",
    "network.compile(optimizer='rmsprop',\n",
    "              loss='mean_squared_error',\n",
    "              metrics=['accuracy', mean_pred])"
   ]
  },
  {
   "cell_type": "code",
   "execution_count": 22,
   "metadata": {
    "collapsed": true
   },
   "outputs": [],
   "source": [
    "import keras.backend as K\n",
    "# 自定义损失函数\n",
    "def mean_pred(y_true, y_pred):\n",
    "    result = np.abs(y_pred - y_true) / y_true\n",
    "    return result"
   ]
  },
  {
   "cell_type": "code",
   "execution_count": 15,
   "metadata": {
    "collapsed": true
   },
   "outputs": [],
   "source": [
    "train_X = np.array([data[i, 0:-1] for i in indices]) \n",
    "train_Y = np.array([data[i, -1] for i in indices])"
   ]
  },
  {
   "cell_type": "code",
   "execution_count": 28,
   "metadata": {},
   "outputs": [
    {
     "name": "stdout",
     "output_type": "stream",
     "text": [
      "Epoch 1/50\n",
      "100/100 [==============================] - 0s 608us/step - loss: 0.0023 - acc: 0.0000e+00 - mean_pred: 0.0376\n",
      "Epoch 2/50\n",
      "100/100 [==============================] - 0s 688us/step - loss: 0.0023 - acc: 0.0000e+00 - mean_pred: 0.0394\n",
      "Epoch 3/50\n",
      "100/100 [==============================] - 0s 529us/step - loss: 0.0024 - acc: 0.0000e+00 - mean_pred: 0.0393\n",
      "Epoch 4/50\n",
      "100/100 [==============================] - 0s 529us/step - loss: 0.0024 - acc: 0.0000e+00 - mean_pred: 0.0400\n",
      "Epoch 5/50\n",
      "100/100 [==============================] - 0s 529us/step - loss: 0.0019 - acc: 0.0000e+00 - mean_pred: 0.0347\n",
      "Epoch 6/50\n",
      "100/100 [==============================] - 0s 539us/step - loss: 0.0023 - acc: 0.0000e+00 - mean_pred: 0.0392\n",
      "Epoch 7/50\n",
      "100/100 [==============================] - 0s 588us/step - loss: 0.0021 - acc: 0.0000e+00 - mean_pred: 0.0363\n",
      "Epoch 8/50\n",
      "100/100 [==============================] - 0s 558us/step - loss: 0.0021 - acc: 0.0000e+00 - mean_pred: 0.0365\n",
      "Epoch 9/50\n",
      "100/100 [==============================] - 0s 578us/step - loss: 0.0024 - acc: 0.0000e+00 - mean_pred: 0.0388\n",
      "Epoch 10/50\n",
      "100/100 [==============================] - 0s 549us/step - loss: 0.0020 - acc: 0.0000e+00 - mean_pred: 0.0362\n",
      "Epoch 11/50\n",
      "100/100 [==============================] - 0s 668us/step - loss: 0.0022 - acc: 0.0000e+00 - mean_pred: 0.0385\n",
      "Epoch 12/50\n",
      "100/100 [==============================] - 0s 628us/step - loss: 0.0027 - acc: 0.0000e+00 - mean_pred: 0.0437\n",
      "Epoch 13/50\n",
      "100/100 [==============================] - 0s 588us/step - loss: 0.0023 - acc: 0.0000e+00 - mean_pred: 0.0392\n",
      "Epoch 14/50\n",
      "100/100 [==============================] - 0s 578us/step - loss: 0.0024 - acc: 0.0000e+00 - mean_pred: 0.0411\n",
      "Epoch 15/50\n",
      "100/100 [==============================] - 0s 578us/step - loss: 0.0020 - acc: 0.0000e+00 - mean_pred: 0.0361\n",
      "Epoch 16/50\n",
      "100/100 [==============================] - 0s 698us/step - loss: 0.0024 - acc: 0.0000e+00 - mean_pred: 0.0425\n",
      "Epoch 17/50\n",
      "100/100 [==============================] - 0s 738us/step - loss: 0.0021 - acc: 0.0000e+00 - mean_pred: 0.0366\n",
      "Epoch 18/50\n",
      "100/100 [==============================] - 0s 708us/step - loss: 0.0023 - acc: 0.0000e+00 - mean_pred: 0.0390\n",
      "Epoch 19/50\n",
      "100/100 [==============================] - 0s 568us/step - loss: 0.0021 - acc: 0.0000e+00 - mean_pred: 0.0380\n",
      "Epoch 20/50\n",
      "100/100 [==============================] - 0s 818us/step - loss: 0.0026 - acc: 0.0000e+00 - mean_pred: 0.0419\n",
      "Epoch 21/50\n",
      "100/100 [==============================] - 0s 758us/step - loss: 0.0024 - acc: 0.0000e+00 - mean_pred: 0.0398\n",
      "Epoch 22/50\n",
      "100/100 [==============================] - 0s 578us/step - loss: 0.0024 - acc: 0.0000e+00 - mean_pred: 0.0387\n",
      "Epoch 23/50\n",
      "100/100 [==============================] - 0s 718us/step - loss: 0.0021 - acc: 0.0000e+00 - mean_pred: 0.0369\n",
      "Epoch 24/50\n",
      "100/100 [==============================] - 0s 678us/step - loss: 0.0022 - acc: 0.0000e+00 - mean_pred: 0.0384\n",
      "Epoch 25/50\n",
      "100/100 [==============================] - 0s 668us/step - loss: 0.0021 - acc: 0.0000e+00 - mean_pred: 0.0370\n",
      "Epoch 26/50\n",
      "100/100 [==============================] - 0s 977us/step - loss: 0.0025 - acc: 0.0000e+00 - mean_pred: 0.0410\n",
      "Epoch 27/50\n",
      "100/100 [==============================] - 0s 828us/step - loss: 0.0021 - acc: 0.0000e+00 - mean_pred: 0.0368\n",
      "Epoch 28/50\n",
      "100/100 [==============================] - 0s 818us/step - loss: 0.0022 - acc: 0.0000e+00 - mean_pred: 0.0381\n",
      "Epoch 29/50\n",
      "100/100 [==============================] - 0s 568us/step - loss: 0.0025 - acc: 0.0000e+00 - mean_pred: 0.0413\n",
      "Epoch 30/50\n",
      "100/100 [==============================] - 0s 529us/step - loss: 0.0022 - acc: 0.0000e+00 - mean_pred: 0.0390\n",
      "Epoch 31/50\n",
      "100/100 [==============================] - 0s 568us/step - loss: 0.0022 - acc: 0.0000e+00 - mean_pred: 0.0374\n",
      "Epoch 32/50\n",
      "100/100 [==============================] - 0s 439us/step - loss: 0.0021 - acc: 0.0000e+00 - mean_pred: 0.0375\n",
      "Epoch 33/50\n",
      "100/100 [==============================] - 0s 558us/step - loss: 0.0025 - acc: 0.0000e+00 - mean_pred: 0.0395\n",
      "Epoch 34/50\n",
      "100/100 [==============================] - 0s 499us/step - loss: 0.0021 - acc: 0.0000e+00 - mean_pred: 0.0378\n",
      "Epoch 35/50\n",
      "100/100 [==============================] - 0s 529us/step - loss: 0.0022 - acc: 0.0000e+00 - mean_pred: 0.0391\n",
      "Epoch 36/50\n",
      "100/100 [==============================] - 0s 529us/step - loss: 0.0022 - acc: 0.0000e+00 - mean_pred: 0.0386\n",
      "Epoch 37/50\n",
      "100/100 [==============================] - 0s 588us/step - loss: 0.0024 - acc: 0.0000e+00 - mean_pred: 0.0418\n",
      "Epoch 38/50\n",
      "100/100 [==============================] - 0s 568us/step - loss: 0.0024 - acc: 0.0000e+00 - mean_pred: 0.0387\n",
      "Epoch 39/50\n",
      "100/100 [==============================] - 0s 788us/step - loss: 0.0022 - acc: 0.0000e+00 - mean_pred: 0.0381\n",
      "Epoch 40/50\n",
      "100/100 [==============================] - 0s 578us/step - loss: 0.0021 - acc: 0.0000e+00 - mean_pred: 0.0368\n",
      "Epoch 41/50\n",
      "100/100 [==============================] - 0s 529us/step - loss: 0.0023 - acc: 0.0000e+00 - mean_pred: 0.0384\n",
      "Epoch 42/50\n",
      "100/100 [==============================] - 0s 609us/step - loss: 0.0021 - acc: 0.0000e+00 - mean_pred: 0.0357\n",
      "Epoch 43/50\n",
      "100/100 [==============================] - 0s 549us/step - loss: 0.0021 - acc: 0.0000e+00 - mean_pred: 0.0372\n",
      "Epoch 44/50\n",
      "100/100 [==============================] - 0s 519us/step - loss: 0.0022 - acc: 0.0000e+00 - mean_pred: 0.0372\n",
      "Epoch 45/50\n",
      "100/100 [==============================] - 0s 529us/step - loss: 0.0026 - acc: 0.0000e+00 - mean_pred: 0.0429\n",
      "Epoch 46/50\n",
      "100/100 [==============================] - 0s 618us/step - loss: 0.0023 - acc: 0.0000e+00 - mean_pred: 0.0394\n",
      "Epoch 47/50\n",
      "100/100 [==============================] - 0s 559us/step - loss: 0.0023 - acc: 0.0000e+00 - mean_pred: 0.0387\n",
      "Epoch 48/50\n",
      "100/100 [==============================] - 0s 529us/step - loss: 0.0023 - acc: 0.0000e+00 - mean_pred: 0.0387\n",
      "Epoch 49/50\n",
      "100/100 [==============================] - 0s 568us/step - loss: 0.0022 - acc: 0.0000e+00 - mean_pred: 0.0373\n",
      "Epoch 50/50\n",
      "100/100 [==============================] - 0s 589us/step - loss: 0.0020 - acc: 0.0000e+00 - mean_pred: 0.0376\n"
     ]
    },
    {
     "data": {
      "text/plain": [
       "<keras.callbacks.History at 0x22d64b0b128>"
      ]
     },
     "execution_count": 28,
     "metadata": {},
     "output_type": "execute_result"
    }
   ],
   "source": [
    "network.fit(train_X, train_Y, epochs=50, batch_size=8)"
   ]
  },
  {
   "cell_type": "code",
   "execution_count": 16,
   "metadata": {
    "collapsed": true
   },
   "outputs": [],
   "source": [
    "test_X = np.array([data[i, 0:-1]  for i in range(len(data)) if i not in indices]) \n",
    "test_Y = np.array([data[i, -1]  for i in range(len(data)) if i not in indices]) "
   ]
  },
  {
   "cell_type": "code",
   "execution_count": null,
   "metadata": {
    "collapsed": true
   },
   "outputs": [],
   "source": [
    "y_pred = network.predict(test_X)"
   ]
  },
  {
   "cell_type": "code",
   "execution_count": null,
   "metadata": {
    "collapsed": true
   },
   "outputs": [],
   "source": [
    "result = np.abs(y_pred - test_Y) / test_Y\n",
    "print(\"预测结果: %.3f \" % np.mean(result))"
   ]
  },
  {
   "cell_type": "code",
   "execution_count": null,
   "metadata": {
    "collapsed": true,
    "scrolled": true
   },
   "outputs": [],
   "source": [
    "#network.save(\"./Leaky_train_1.h5\")\n",
    "network.summary()"
   ]
  },
  {
   "cell_type": "code",
   "execution_count": null,
   "metadata": {
    "collapsed": true
   },
   "outputs": [],
   "source": [
    "from keras.models import load_model\n",
    "model = network.load_weights(\"./Leaky_train.h5\")"
   ]
  },
  {
   "cell_type": "code",
   "execution_count": null,
   "metadata": {
    "collapsed": true
   },
   "outputs": [],
   "source": [
    "y_pred = network.predict(test_X)\n",
    "new_result = np.abs(y_pred - test_Y) / test_Y\n",
    "print(\"预测结果: %.3f \" % np.mean(new_result))"
   ]
  },
  {
   "cell_type": "code",
   "execution_count": null,
   "metadata": {
    "collapsed": true,
    "scrolled": true
   },
   "outputs": [],
   "source": [
    "from sklearn import linear_model\n",
    "linear = linear_model.LinearRegression()\n",
    "linear.fit(train_X, train_Y)"
   ]
  },
  {
   "cell_type": "code",
   "execution_count": null,
   "metadata": {
    "collapsed": true
   },
   "outputs": [],
   "source": [
    "y_pred = linear.predict(test_X)\n",
    "new_result = np.abs(y_pred - test_Y) / test_Y\n",
    "print(\"线性模型预测结果: %.3f \" % np.mean(new_result))"
   ]
  },
  {
   "cell_type": "code",
   "execution_count": null,
   "metadata": {
    "collapsed": true
   },
   "outputs": [],
   "source": [
    "Ridge = linear_model.Ridge (alpha = .5)\n",
    "Ridge.fit(train_X, train_Y)"
   ]
  },
  {
   "cell_type": "code",
   "execution_count": null,
   "metadata": {
    "collapsed": true
   },
   "outputs": [],
   "source": [
    "y_pred = Ridge.predict(test_X)\n",
    "new_result = np.abs(y_pred - test_Y) / test_Y\n",
    "print(\"岭回归线性模型预测结果: %.3f \" % np.mean(new_result))"
   ]
  },
  {
   "cell_type": "code",
   "execution_count": null,
   "metadata": {
    "collapsed": true
   },
   "outputs": [],
   "source": [
    "from sklearn.externals import joblib\n",
    "joblib.dump(linear,'linear.m')\n",
    "joblib.dump(linear,'ridge.m')"
   ]
  },
  {
   "cell_type": "code",
   "execution_count": 19,
   "metadata": {},
   "outputs": [
    {
     "data": {
      "text/plain": [
       "100"
      ]
     },
     "execution_count": 19,
     "metadata": {},
     "output_type": "execute_result"
    }
   ],
   "source": [
    "len(train_Y)"
   ]
  },
  {
   "cell_type": "code",
   "execution_count": 20,
   "metadata": {
    "collapsed": true
   },
   "outputs": [],
   "source": [
    "np.save(\"./test_X.npy\", test_X)\n",
    "np.save(\"./test_Y.npy\", test_Y)\n",
    "np.save(\"./train_X.npy\", train_X)\n",
    "np.save(\"./train_Y.npy\", train_Y)"
   ]
  }
 ],
 "metadata": {
  "kernelspec": {
   "display_name": "Python 3",
   "language": "python",
   "name": "python3"
  },
  "language_info": {
   "codemirror_mode": {
    "name": "ipython",
    "version": 3
   },
   "file_extension": ".py",
   "mimetype": "text/x-python",
   "name": "python",
   "nbconvert_exporter": "python",
   "pygments_lexer": "ipython3",
   "version": "3.6.3"
  }
 },
 "nbformat": 4,
 "nbformat_minor": 2
}
