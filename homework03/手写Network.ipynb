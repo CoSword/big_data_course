{
 "cells": [
  {
   "cell_type": "code",
   "execution_count": 116,
   "metadata": {},
   "outputs": [],
   "source": [
    "import numpy as np\n",
    "import matplotlib.pyplot as plt"
   ]
  },
  {
   "cell_type": "code",
   "execution_count": 183,
   "metadata": {},
   "outputs": [],
   "source": [
    "# 激活函数\n",
    "def relu(X):\n",
    "    return np.maximum(0, X)\n",
    "\n",
    "def sigmod(Z):\n",
    "    return 1 / (1 + np.exp(-Z))\n",
    "\n",
    "# 神经元线性函数\n",
    "def linear(X, w, b):\n",
    "    return np.dot(w,X) + b"
   ]
  },
  {
   "cell_type": "code",
   "execution_count": 180,
   "metadata": {},
   "outputs": [],
   "source": [
    "# 随机参数初始化\n",
    "def initialize_parameters(layer_dims):\n",
    "    '''\n",
    "    layer_dims: 每层网络的神经单元数列表\n",
    "    '''\n",
    "    parameters = {}\n",
    "    np.random.seed(1)\n",
    "    lenth = len(layer_dims)\n",
    "    for l in range(1, lenth):\n",
    "        # 防止初始化的值过大\n",
    "        parameters['W' + str(l)] = np.random.randn(layer_dims[l],layer_dims[l-1])*0.01\n",
    "        parameters['b' + str(l)] = np.zeros((layer_dims[l],1)) \n",
    "        \n",
    "    return parameters    "
   ]
  },
  {
   "cell_type": "code",
   "execution_count": 294,
   "metadata": {},
   "outputs": [],
   "source": [
    "# 前向传播\n",
    "def forward_propagation(X, parameters):\n",
    "    '''\n",
    "    X: 输入向量\n",
    "    parameters: 参数字典\n",
    "    '''\n",
    "    caches = []\n",
    "    costs = []\n",
    "    A = X\n",
    "    \n",
    "    L = len(parameters) // 2\n",
    "    \n",
    "    for l in range(1,L):\n",
    "        w = parameters['W' + str(l)]\n",
    "        b = parameters['b' + str(l)]\n",
    "        Z = linear(A, w, b)\n",
    "        # 存储反向传播要用的参数\n",
    "        caches.append((A,w,b,Z))\n",
    "        A = relu(Z)\n",
    "        \n",
    "    w = parameters[\"W\" + str(L)]\n",
    "    b = parameters[\"b\" + str(L)]\n",
    "    Z = linear(A,w, b)\n",
    "    caches.append((A, w, b, Z))\n",
    "    \n",
    "    A = sigmod(Z)\n",
    "    \n",
    "    return A, caches"
   ]
  },
  {
   "cell_type": "code",
   "execution_count": 189,
   "metadata": {},
   "outputs": [],
   "source": [
    "# 代价函数\n",
    "def compute_cost(A,Y):\n",
    "    m = Y.shape[0]\n",
    "    #cost = 1. / m * np.sum(np.multiply(-np.log(A), Y) + np.multiply(-np.log(1 - A), 1 - Y))\n",
    "    #cost = np.squeeze(cost)\n",
    "    # 平方差代价函数\n",
    "    cost =  1. / m * np.sum(np.square(A - Y))\n",
    "    #print(cost)\n",
    "    return cost"
   ]
  },
  {
   "cell_type": "code",
   "execution_count": 181,
   "metadata": {},
   "outputs": [],
   "source": [
    "# 激活函数求导\n",
    "def relu_backward(dA, Z):\n",
    "    result = np.multiply(dA, np.int64(Z > 0))\n",
    "    return result\n",
    "\n",
    "# 神经元线性函数求导\n",
    "def linear_backward(dZ, cache):\n",
    "    A_prev, w, b, z = cache\n",
    "    dw = np.dot(dZ, A_prev.T)\n",
    "    #dw = np.dot(dZ, A_prev)\n",
    "    db = np.sum(dZ, axis=1, keepdims=True)\n",
    "    dA_prev = np.dot(w.T, dZ)\n",
    "    \n",
    "    return dA_prev, dw, db"
   ]
  },
  {
   "cell_type": "code",
   "execution_count": 335,
   "metadata": {},
   "outputs": [],
   "source": [
    "# 反向传播\n",
    "def backward_propagation(A, Y, caches):\n",
    "    m = Y.shape[0]\n",
    "    L = len(caches) - 1\n",
    "    \n",
    "    #dZ = 1./ m * (A - Y)\n",
    "    dZ = 2./ m * (A - Y)\n",
    "    dA, dw, db = linear_backward(dZ,caches[L])\n",
    "    \n",
    "    gradients = {\"dW\" + str(L + 1): dw, \n",
    "                 \"db\" + str(L + 1): db}\n",
    "\n",
    "    for l in reversed(range(0,L)):\n",
    "        A, w, b, z = caches[l]\n",
    "        out = relu_backward(dA, z)\n",
    "        da, dw, db = linear_backward(out, caches[l])\n",
    "        \n",
    "        gradients[\"dW\" + str(l+1)] = dw\n",
    "        gradients[\"db\" + str(l+1)] = db\n",
    "    return gradients"
   ]
  },
  {
   "cell_type": "code",
   "execution_count": 34,
   "metadata": {},
   "outputs": [],
   "source": [
    "# 更新参数\n",
    "def update_parameters(parameters, gradients, learning_rate):\n",
    "\n",
    "    L = len(parameters) // 2\n",
    "    for l in range(L):\n",
    "        parameters[\"W\" + str(l + 1)] = parameters[\"W\" + str(l + 1)] - learning_rate * gradients[\"dW\" + str(l + 1)]\n",
    "        parameters[\"b\" + str(l + 1)] = parameters[\"b\" + str(l + 1)] - learning_rate * gradients[\"db\" + str(l + 1)]\n",
    "    return parameters"
   ]
  },
  {
   "cell_type": "code",
   "execution_count": 337,
   "metadata": {},
   "outputs": [],
   "source": [
    "# 模型组合\n",
    "%matplotlib inline\n",
    "def model(X, Y, layer_dims, learning_rate, num_iterations):\n",
    "    costs = []\n",
    "    parameters = initialize_parameters(layer_dims)\n",
    "    print(parameters['W1'].shape)\n",
    "    print(parameters['W2'].shape)\n",
    "   # print(parameters['W3'].shape)\n",
    "    for i in range(num_iterations):\n",
    "        A,caches = forward_propagation(X, parameters)\n",
    "        #print(A)\n",
    "        cost = compute_cost(A,Y)\n",
    "        if i % 500 == 0:\n",
    "            print(\"Cost after iteration {}: {}\".format(i, cost))\n",
    "            costs.append(cost)\n",
    "        #old = parameters['W1']\n",
    "        gradients = backward_propagation(A, Y, caches)\n",
    "        parameters = update_parameters(parameters, gradients, learning_rate)\n",
    "        #print(old -parameters['W1'])\n",
    "    plt.clf()\n",
    "    plt.plot(costs)  \n",
    "    plt.xlabel(\"iterations\")  \n",
    "    plt.ylabel(\"cost\")\n",
    "    plt.show()\n",
    "    return parameters"
   ]
  },
  {
   "cell_type": "code",
   "execution_count": 302,
   "metadata": {},
   "outputs": [],
   "source": [
    "#指标: np.abs(y_pred - y_true) / y_true\n",
    "def predict(X_test,y_test,parameters):\n",
    "    m = y_test.shape[0]\n",
    "    y_pred, caches = forward_propagation(X_test,parameters)\n",
    "    result = np.abs(y_pred - y_test) / y_test\n",
    "    #result = compute_cost(y_pred, y_test)\n",
    "    return result"
   ]
  },
  {
   "cell_type": "code",
   "execution_count": 58,
   "metadata": {},
   "outputs": [],
   "source": [
    "data = np.load('./placement_train.npy')\n",
    "X = data[:,0:-1]\n",
    "Y = data[:,-1]\n",
    "Ymin = np.min(Y)\n",
    "Ymax = np.max(Y)"
   ]
  },
  {
   "cell_type": "code",
   "execution_count": 307,
   "metadata": {},
   "outputs": [],
   "source": [
    "train_X = np.load('./train_X.npy')\n",
    "train_Y = np.load('./train_Y.npy')\n",
    "test_X = np.load('./test_X.npy')\n",
    "test_Y = np.load('./test_Y.npy')"
   ]
  },
  {
   "cell_type": "code",
   "execution_count": 308,
   "metadata": {},
   "outputs": [],
   "source": [
    "# 这里对Y使用归一化\n",
    "train_Y = (train_Y - Ymin) / (Ymax - Ymin) \n",
    "test_Y =  (test_Y - Ymin) / (Ymax - Ymin)"
   ]
  },
  {
   "cell_type": "code",
   "execution_count": 311,
   "metadata": {},
   "outputs": [],
   "source": [
    "index = np.where(test_Y <= 0)\n",
    "test_Y[index] = 1"
   ]
  },
  {
   "cell_type": "code",
   "execution_count": 314,
   "metadata": {},
   "outputs": [],
   "source": [
    "test_Y[index] = np.min(test_Y)"
   ]
  },
  {
   "cell_type": "code",
   "execution_count": 338,
   "metadata": {},
   "outputs": [
    {
     "name": "stdout",
     "output_type": "stream",
     "text": [
      "(10, 6)\n",
      "(10, 10)\n",
      "Cost after iteration 0: 0.03803862631076817\n",
      "Cost after iteration 500: 0.03214523365021842\n",
      "Cost after iteration 1000: 0.03214523365021842\n",
      "Cost after iteration 1500: 0.03214523365021842\n",
      "Cost after iteration 2000: 0.03214523365021842\n",
      "Cost after iteration 2500: 0.03214523365021842\n",
      "Cost after iteration 3000: 0.03214523365021842\n",
      "Cost after iteration 3500: 0.03214523365021842\n",
      "Cost after iteration 4000: 0.03214523365021842\n",
      "Cost after iteration 4500: 0.03214523365021842\n"
     ]
    },
    {
     "data": {
      "image/png": "[encoded data removed]",
      "text/plain": [
       "<Figure size 432x288 with 1 Axes>"
      ]
     },
     "metadata": {
      "needs_background": "light"
     },
     "output_type": "display_data"
    }
   ],
   "source": [
    "layer_dims = (6,10,10,1)\n",
    "parameters = model(train_X.transpose(), train_Y,layer_dims , 2, num_iterations=5000)"
   ]
  },
  {
   "cell_type": "code",
   "execution_count": 339,
   "metadata": {},
   "outputs": [],
   "source": [
    "result = predict(test_X.transpose(),test_Y,parameters)"
   ]
  },
  {
   "cell_type": "code",
   "execution_count": 340,
   "metadata": {},
   "outputs": [
    {
     "data": {
      "text/plain": [
       "0.40117460470434785"
      ]
     },
     "execution_count": 340,
     "metadata": {},
     "output_type": "execute_result"
    }
   ],
   "source": [
    "result.mean()"
   ]
  }
 ],
 "metadata": {
  "kernelspec": {
   "display_name": "Python 3",
   "language": "python",
   "name": "python3"
  },
  "language_info": {
   "codemirror_mode": {
    "name": "ipython",
    "version": 3
   },
   "file_extension": ".py",
   "mimetype": "text/x-python",
   "name": "python",
   "nbconvert_exporter": "python",
   "pygments_lexer": "ipython3",
   "version": "3.6.3"
  },
  "widgets": {
   "application/vnd.jupyter.widget-state+json": {
    "state": {},
    "version_major": 1,
    "version_minor": 0
   }
  }
 },
 "nbformat": 4,
 "nbformat_minor": 2
}
